{
 "cells": [
  {
   "cell_type": "markdown",
   "id": "662f99f8",
   "metadata": {},
   "source": [
    "### `Name : Berchmans Kevin S`"
   ]
  },
  {
   "cell_type": "markdown",
   "id": "a2060845",
   "metadata": {},
   "source": [
    "## `PDL - Text Classification using CNN-LSTM and Pre-trained Glove Models`"
   ]
  },
  {
   "cell_type": "code",
   "execution_count": 1,
   "id": "90c404df",
   "metadata": {},
   "outputs": [
    {
     "name": "stderr",
     "output_type": "stream",
     "text": [
      "[nltk_data] Downloading package stopwords to\n",
      "[nltk_data]     C:\\Users\\online\\AppData\\Roaming\\nltk_data...\n",
      "[nltk_data]   Package stopwords is already up-to-date!\n"
     ]
    }
   ],
   "source": [
    "import tensorflow as tf \n",
    "import numpy as np\n",
    "import pandas as pd \n",
    "import matplotlib.pyplot as plt\n",
    "import nltk\n",
    "import sklearn\n",
    "from sklearn.model_selection import train_test_split \n",
    "from tensorflow.keras.preprocessing. text import Tokenizer\n",
    "from tensorflow.keras.preprocessing.sequence import pad_sequences \n",
    "from tensorflow.keras.optimizers import RMSprop , Adam\n",
    "from keras.models import Sequential\n",
    "from keras.layers import *\n",
    "from nltk.corpus import stopwords \n",
    "\n",
    "nltk.download('stopwords') \n",
    "\",\".join(stopwords.words('english'))\n",
    "STOPWORDS = set(stopwords.words('english'))"
   ]
  },
  {
   "cell_type": "code",
   "execution_count": 2,
   "id": "07a8ca55",
   "metadata": {},
   "outputs": [
    {
     "data": {
      "text/html": [
       "<div>\n",
       "<style scoped>\n",
       "    .dataframe tbody tr th:only-of-type {\n",
       "        vertical-align: middle;\n",
       "    }\n",
       "\n",
       "    .dataframe tbody tr th {\n",
       "        vertical-align: top;\n",
       "    }\n",
       "\n",
       "    .dataframe thead th {\n",
       "        text-align: right;\n",
       "    }\n",
       "</style>\n",
       "<table border=\"1\" class=\"dataframe\">\n",
       "  <thead>\n",
       "    <tr style=\"text-align: right;\">\n",
       "      <th></th>\n",
       "      <th>category</th>\n",
       "      <th>text</th>\n",
       "    </tr>\n",
       "  </thead>\n",
       "  <tbody>\n",
       "    <tr>\n",
       "      <th>0</th>\n",
       "      <td>tech</td>\n",
       "      <td>tv future in the hands of viewers with home th...</td>\n",
       "    </tr>\n",
       "    <tr>\n",
       "      <th>1</th>\n",
       "      <td>business</td>\n",
       "      <td>worldcom boss  left books alone  former worldc...</td>\n",
       "    </tr>\n",
       "    <tr>\n",
       "      <th>2</th>\n",
       "      <td>sport</td>\n",
       "      <td>tigers wary of farrell  gamble  leicester say ...</td>\n",
       "    </tr>\n",
       "    <tr>\n",
       "      <th>3</th>\n",
       "      <td>sport</td>\n",
       "      <td>yeading face newcastle in fa cup premiership s...</td>\n",
       "    </tr>\n",
       "    <tr>\n",
       "      <th>4</th>\n",
       "      <td>entertainment</td>\n",
       "      <td>ocean s twelve raids box office ocean s twelve...</td>\n",
       "    </tr>\n",
       "  </tbody>\n",
       "</table>\n",
       "</div>"
      ],
      "text/plain": [
       "        category                                               text\n",
       "0           tech  tv future in the hands of viewers with home th...\n",
       "1       business  worldcom boss  left books alone  former worldc...\n",
       "2          sport  tigers wary of farrell  gamble  leicester say ...\n",
       "3          sport  yeading face newcastle in fa cup premiership s...\n",
       "4  entertainment  ocean s twelve raids box office ocean s twelve..."
      ]
     },
     "execution_count": 2,
     "metadata": {},
     "output_type": "execute_result"
    }
   ],
   "source": [
    "data = pd.read_csv(\"glove.csv\")\n",
    "data.head()"
   ]
  },
  {
   "cell_type": "code",
   "execution_count": 3,
   "id": "e4ab931b",
   "metadata": {},
   "outputs": [
    {
     "data": {
      "text/plain": [
       "(2225, 2)"
      ]
     },
     "execution_count": 3,
     "metadata": {},
     "output_type": "execute_result"
    }
   ],
   "source": [
    "data.shape"
   ]
  },
  {
   "cell_type": "code",
   "execution_count": 4,
   "id": "61ebda96",
   "metadata": {},
   "outputs": [
    {
     "name": "stdout",
     "output_type": "stream",
     "text": [
      "<class 'pandas.core.frame.DataFrame'>\n",
      "RangeIndex: 2225 entries, 0 to 2224\n",
      "Data columns (total 2 columns):\n",
      " #   Column    Non-Null Count  Dtype \n",
      "---  ------    --------------  ----- \n",
      " 0   category  2225 non-null   object\n",
      " 1   text      2225 non-null   object\n",
      "dtypes: object(2)\n",
      "memory usage: 34.9+ KB\n"
     ]
    }
   ],
   "source": [
    "data.info()"
   ]
  },
  {
   "cell_type": "code",
   "execution_count": 5,
   "id": "6a57dd56",
   "metadata": {},
   "outputs": [
    {
     "data": {
      "text/html": [
       "<div>\n",
       "<style scoped>\n",
       "    .dataframe tbody tr th:only-of-type {\n",
       "        vertical-align: middle;\n",
       "    }\n",
       "\n",
       "    .dataframe tbody tr th {\n",
       "        vertical-align: top;\n",
       "    }\n",
       "\n",
       "    .dataframe thead th {\n",
       "        text-align: right;\n",
       "    }\n",
       "</style>\n",
       "<table border=\"1\" class=\"dataframe\">\n",
       "  <thead>\n",
       "    <tr style=\"text-align: right;\">\n",
       "      <th></th>\n",
       "      <th>category</th>\n",
       "      <th>text</th>\n",
       "    </tr>\n",
       "  </thead>\n",
       "  <tbody>\n",
       "    <tr>\n",
       "      <th>count</th>\n",
       "      <td>2225</td>\n",
       "      <td>2225</td>\n",
       "    </tr>\n",
       "    <tr>\n",
       "      <th>unique</th>\n",
       "      <td>5</td>\n",
       "      <td>2126</td>\n",
       "    </tr>\n",
       "    <tr>\n",
       "      <th>top</th>\n",
       "      <td>sport</td>\n",
       "      <td>kennedy questions trust of blair lib dem leade...</td>\n",
       "    </tr>\n",
       "    <tr>\n",
       "      <th>freq</th>\n",
       "      <td>511</td>\n",
       "      <td>2</td>\n",
       "    </tr>\n",
       "  </tbody>\n",
       "</table>\n",
       "</div>"
      ],
      "text/plain": [
       "       category                                               text\n",
       "count      2225                                               2225\n",
       "unique        5                                               2126\n",
       "top       sport  kennedy questions trust of blair lib dem leade...\n",
       "freq        511                                                  2"
      ]
     },
     "execution_count": 5,
     "metadata": {},
     "output_type": "execute_result"
    }
   ],
   "source": [
    "data.describe()"
   ]
  },
  {
   "cell_type": "code",
   "execution_count": 6,
   "id": "24ca3af4",
   "metadata": {},
   "outputs": [
    {
     "data": {
      "text/plain": [
       "(2225, 2)"
      ]
     },
     "execution_count": 6,
     "metadata": {},
     "output_type": "execute_result"
    }
   ],
   "source": [
    "data.shape"
   ]
  },
  {
   "cell_type": "code",
   "execution_count": 7,
   "id": "e5b3d669",
   "metadata": {},
   "outputs": [],
   "source": [
    "y =data['category'] \n",
    "X=[] \n",
    "for review in data['text']: \n",
    "    filtered_sentence = [w.lower() for w in review.split() if not w in STOPWORDS ] \n",
    "    X.append(filtered_sentence)\n",
    "X = pd.Series(X) "
   ]
  },
  {
   "cell_type": "code",
   "execution_count": 8,
   "id": "93275e53",
   "metadata": {},
   "outputs": [],
   "source": [
    "y_tokenizer = Tokenizer() \n",
    "y_tokenizer.fit_on_texts(y) \n",
    "y_seq = np.array(y_tokenizer.texts_to_sequences (y))"
   ]
  },
  {
   "cell_type": "code",
   "execution_count": 9,
   "id": "67e192a6",
   "metadata": {},
   "outputs": [
    {
     "data": {
      "text/plain": [
       "{'<oov>': 1,\n",
       " 'said': 2,\n",
       " '-': 3,\n",
       " 'mr': 4,\n",
       " 'would': 5,\n",
       " 'also': 6,\n",
       " 'people': 7,\n",
       " 'new': 8,\n",
       " 'us': 9,\n",
       " 'one': 10,\n",
       " 'could': 11,\n",
       " 'said.': 12,\n",
       " 'year': 13,\n",
       " 'last': 14,\n",
       " 'first': 15}"
      ]
     },
     "execution_count": 9,
     "metadata": {},
     "output_type": "execute_result"
    }
   ],
   "source": [
    "X_token = Tokenizer(num_words=5000,oov_token='<oov>') \n",
    "X_token.fit_on_texts(X) \n",
    "word_index = X_token.word_index\n",
    "X_sequence = X_token.texts_to_sequences(X) \n",
    "dict(list(word_index.items())[0:15])"
   ]
  },
  {
   "cell_type": "code",
   "execution_count": 10,
   "id": "1f867c81",
   "metadata": {},
   "outputs": [],
   "source": [
    "X_padding= pad_sequences(X_sequence, maxlen=200, padding='post') "
   ]
  },
  {
   "cell_type": "code",
   "execution_count": 11,
   "id": "1f12f51d",
   "metadata": {},
   "outputs": [
    {
     "name": "stdout",
     "output_type": "stream",
     "text": [
      "(2225, 1)\n",
      "(2225, 200)\n"
     ]
    }
   ],
   "source": [
    "print(y_seq.shape) \n",
    "print(X_padding.shape) "
   ]
  },
  {
   "cell_type": "code",
   "execution_count": 12,
   "id": "213da48f",
   "metadata": {},
   "outputs": [],
   "source": [
    "x_train,x_test,y_train,y_test = train_test_split(X_padding, y_seq,train_size=0.7)"
   ]
  },
  {
   "cell_type": "code",
   "execution_count": 13,
   "id": "1f4b51d8",
   "metadata": {},
   "outputs": [
    {
     "name": "stdout",
     "output_type": "stream",
     "text": [
      "(1557, 200) (668, 200)\n",
      "(1557, 1) (668, 1)\n"
     ]
    }
   ],
   "source": [
    "print(x_train.shape, x_test.shape) \n",
    "print(y_train.shape, y_test.shape)"
   ]
  },
  {
   "cell_type": "code",
   "execution_count": 14,
   "id": "494e1f67",
   "metadata": {},
   "outputs": [],
   "source": [
    "vocab_size = 5000 \n",
    "embedding_dim = 64 \n",
    "max_length = 200"
   ]
  },
  {
   "cell_type": "code",
   "execution_count": 15,
   "id": "d15b7b49",
   "metadata": {},
   "outputs": [],
   "source": [
    "model1 = Sequential() \n",
    "model1.add(Embedding(vocab_size, embedding_dim)) \n",
    "model1.add(LSTM(embedding_dim))\n",
    "model1.add(Dense(embedding_dim, activation='tanh'))\n",
    "model1.add(Dense(6,activation='softmax'))"
   ]
  },
  {
   "cell_type": "code",
   "execution_count": 16,
   "id": "8201be7b",
   "metadata": {},
   "outputs": [
    {
     "name": "stdout",
     "output_type": "stream",
     "text": [
      "Model: \"sequential\"\n",
      "_________________________________________________________________\n",
      " Layer (type)                Output Shape              Param #   \n",
      "=================================================================\n",
      " embedding (Embedding)       (None, None, 64)          320000    \n",
      "                                                                 \n",
      " lstm (LSTM)                 (None, 64)                33024     \n",
      "                                                                 \n",
      " dense (Dense)               (None, 64)                4160      \n",
      "                                                                 \n",
      " dense_1 (Dense)             (None, 6)                 390       \n",
      "                                                                 \n",
      "=================================================================\n",
      "Total params: 357,574\n",
      "Trainable params: 357,574\n",
      "Non-trainable params: 0\n",
      "_________________________________________________________________\n"
     ]
    }
   ],
   "source": [
    "model1. summary()"
   ]
  },
  {
   "cell_type": "code",
   "execution_count": 17,
   "id": "0be3d736",
   "metadata": {},
   "outputs": [],
   "source": [
    "model1.compile(optimizer='adam',loss='sparse_categorical_crossentropy',metrics=['accuracy'])"
   ]
  },
  {
   "cell_type": "code",
   "execution_count": 18,
   "id": "ced11ce4",
   "metadata": {},
   "outputs": [
    {
     "name": "stdout",
     "output_type": "stream",
     "text": [
      "Epoch 1/20\n",
      "39/39 - 3s - loss: 1.6391 - accuracy: 0.2562 - val_loss: 1.5447 - val_accuracy: 0.3429 - 3s/epoch - 75ms/step\n",
      "Epoch 2/20\n",
      "39/39 - 1s - loss: 1.4532 - accuracy: 0.3341 - val_loss: 1.4073 - val_accuracy: 0.3814 - 1s/epoch - 33ms/step\n",
      "Epoch 3/20\n",
      "39/39 - 1s - loss: 1.5570 - accuracy: 0.3044 - val_loss: 1.5324 - val_accuracy: 0.3173 - 1s/epoch - 32ms/step\n",
      "Epoch 4/20\n",
      "39/39 - 1s - loss: 1.3823 - accuracy: 0.4088 - val_loss: 1.5277 - val_accuracy: 0.4263 - 1s/epoch - 33ms/step\n",
      "Epoch 5/20\n",
      "39/39 - 1s - loss: 1.2562 - accuracy: 0.4096 - val_loss: 1.2656 - val_accuracy: 0.4071 - 1s/epoch - 33ms/step\n",
      "Epoch 6/20\n",
      "39/39 - 1s - loss: 1.1564 - accuracy: 0.4169 - val_loss: 1.4300 - val_accuracy: 0.4167 - 1s/epoch - 32ms/step\n",
      "Epoch 7/20\n",
      "39/39 - 1s - loss: 1.3379 - accuracy: 0.4434 - val_loss: 1.3812 - val_accuracy: 0.4487 - 1s/epoch - 33ms/step\n",
      "Epoch 8/20\n",
      "39/39 - 1s - loss: 1.1260 - accuracy: 0.5157 - val_loss: 1.2361 - val_accuracy: 0.4647 - 1s/epoch - 32ms/step\n",
      "Epoch 9/20\n",
      "39/39 - 1s - loss: 1.0091 - accuracy: 0.6088 - val_loss: 1.3767 - val_accuracy: 0.4391 - 1s/epoch - 34ms/step\n",
      "Epoch 10/20\n",
      "39/39 - 1s - loss: 0.9016 - accuracy: 0.6048 - val_loss: 1.0373 - val_accuracy: 0.5769 - 1s/epoch - 33ms/step\n",
      "Epoch 11/20\n",
      "39/39 - 1s - loss: 0.8036 - accuracy: 0.6747 - val_loss: 1.1670 - val_accuracy: 0.5256 - 1s/epoch - 33ms/step\n",
      "Epoch 12/20\n",
      "39/39 - 1s - loss: 0.8760 - accuracy: 0.6691 - val_loss: 1.0524 - val_accuracy: 0.5929 - 1s/epoch - 34ms/step\n",
      "Epoch 13/20\n",
      "39/39 - 1s - loss: 0.7618 - accuracy: 0.7036 - val_loss: 1.0272 - val_accuracy: 0.6346 - 1s/epoch - 32ms/step\n",
      "Epoch 14/20\n",
      "39/39 - 1s - loss: 0.6923 - accuracy: 0.7229 - val_loss: 0.8641 - val_accuracy: 0.6923 - 1s/epoch - 33ms/step\n",
      "Epoch 15/20\n",
      "39/39 - 1s - loss: 0.6750 - accuracy: 0.7301 - val_loss: 0.8900 - val_accuracy: 0.6987 - 1s/epoch - 32ms/step\n",
      "Epoch 16/20\n",
      "39/39 - 1s - loss: 0.5761 - accuracy: 0.7639 - val_loss: 0.9989 - val_accuracy: 0.6218 - 1s/epoch - 34ms/step\n",
      "Epoch 17/20\n",
      "39/39 - 1s - loss: 0.5158 - accuracy: 0.7871 - val_loss: 0.8346 - val_accuracy: 0.7340 - 1s/epoch - 32ms/step\n",
      "Epoch 18/20\n",
      "39/39 - 1s - loss: 0.6664 - accuracy: 0.7197 - val_loss: 0.9784 - val_accuracy: 0.5929 - 1s/epoch - 33ms/step\n",
      "Epoch 19/20\n",
      "39/39 - 1s - loss: 0.6968 - accuracy: 0.6594 - val_loss: 1.0262 - val_accuracy: 0.4968 - 1s/epoch - 33ms/step\n",
      "Epoch 20/20\n",
      "39/39 - 1s - loss: 0.6489 - accuracy: 0.6924 - val_loss: 0.9420 - val_accuracy: 0.5256 - 1s/epoch - 33ms/step\n"
     ]
    }
   ],
   "source": [
    "history1 = model1.fit(x_train,y_train, epochs=20, verbose=2, validation_split=0.2)"
   ]
  },
  {
   "cell_type": "code",
   "execution_count": 19,
   "id": "5bc06e6f",
   "metadata": {},
   "outputs": [
    {
     "data": {
      "image/png": "[encoded data removed]",
      "text/plain": [
       "<Figure size 432x288 with 1 Axes>"
      ]
     },
     "metadata": {
      "needs_background": "light"
     },
     "output_type": "display_data"
    }
   ],
   "source": [
    "plt.plot(history1.history['accuracy']) \n",
    "plt.plot(history1.history['val_accuracy'])\n",
    "plt.title('model accuarcy') \n",
    "plt.xlabel('accuracy') \n",
    "plt.ylabel('epoch') \n",
    "plt.legend(['train', 'validation'])\n",
    "plt.show()"
   ]
  },
  {
   "cell_type": "code",
   "execution_count": 20,
   "id": "1c47b32c",
   "metadata": {},
   "outputs": [
    {
     "data": {
      "image/png": "[encoded data removed]",
      "text/plain": [
       "<Figure size 432x288 with 1 Axes>"
      ]
     },
     "metadata": {
      "needs_background": "light"
     },
     "output_type": "display_data"
    }
   ],
   "source": [
    "plt.plot(history1.history['loss']) \n",
    "plt.plot(history1.history['val_loss'])\n",
    "\n",
    "plt.title('model loss') \n",
    "plt.xlabel('loss') \n",
    "plt.ylabel('epoch') \n",
    "plt.legend(['train', 'validation'])\n",
    "plt.show() "
   ]
  },
  {
   "cell_type": "code",
   "execution_count": 21,
   "id": "2f4d94a2",
   "metadata": {},
   "outputs": [
    {
     "name": "stdout",
     "output_type": "stream",
     "text": [
      "loss:  0.9804655313491821\n",
      "accuarcy:  0.5179640650749207\n"
     ]
    }
   ],
   "source": [
    "print(\"loss: \", model1.evaluate(x_test,y_test, verbose=0)[0]) \n",
    "print(\"accuarcy: \", model1.evaluate(x_test, y_test, verbose=0)[1]) "
   ]
  },
  {
   "cell_type": "code",
   "execution_count": 22,
   "id": "40e74322",
   "metadata": {},
   "outputs": [],
   "source": [
    "model2 = Sequential() \n",
    "model2.add(Embedding(vocab_size, embedding_dim)) \n",
    "model2.add(Conv1D(filters=32, kernel_size=5, strides=1, activation='relu'))\n",
    "model2.add(MaxPooling1D((2))) \n",
    "model2.add(LSTM(embedding_dim)) \n",
    "model2.add(Dense(128, activation= 'relu'))\n",
    "model2.add(Dense(6, activation='softmax')) \n"
   ]
  },
  {
   "cell_type": "code",
   "execution_count": 23,
   "id": "0142060d",
   "metadata": {},
   "outputs": [
    {
     "name": "stdout",
     "output_type": "stream",
     "text": [
      "Model: \"sequential_1\"\n",
      "_________________________________________________________________\n",
      " Layer (type)                Output Shape              Param #   \n",
      "=================================================================\n",
      " embedding_1 (Embedding)     (None, None, 64)          320000    \n",
      "                                                                 \n",
      " conv1d (Conv1D)             (None, None, 32)          10272     \n",
      "                                                                 \n",
      " max_pooling1d (MaxPooling1D  (None, None, 32)         0         \n",
      " )                                                               \n",
      "                                                                 \n",
      " lstm_1 (LSTM)               (None, 64)                24832     \n",
      "                                                                 \n",
      " dense_2 (Dense)             (None, 128)               8320      \n",
      "                                                                 \n",
      " dense_3 (Dense)             (None, 6)                 774       \n",
      "                                                                 \n",
      "=================================================================\n",
      "Total params: 364,198\n",
      "Trainable params: 364,198\n",
      "Non-trainable params: 0\n",
      "_________________________________________________________________\n"
     ]
    }
   ],
   "source": [
    "model2. summary()"
   ]
  },
  {
   "cell_type": "code",
   "execution_count": 24,
   "id": "a832cb7d",
   "metadata": {},
   "outputs": [],
   "source": [
    "model2.compile (optimizer='adam',loss='sparse_categorical_crossentropy', metrics=['accuracy'])"
   ]
  },
  {
   "cell_type": "code",
   "execution_count": 25,
   "id": "60190ed4",
   "metadata": {},
   "outputs": [
    {
     "name": "stdout",
     "output_type": "stream",
     "text": [
      "Epoch 1/20\n",
      "39/39 - 3s - loss: 1.6388 - accuracy: 0.2602 - val_loss: 1.5533 - val_accuracy: 0.2500 - 3s/epoch - 67ms/step\n",
      "Epoch 2/20\n",
      "39/39 - 1s - loss: 1.3710 - accuracy: 0.3695 - val_loss: 1.2727 - val_accuracy: 0.4776 - 909ms/epoch - 23ms/step\n",
      "Epoch 3/20\n",
      "39/39 - 1s - loss: 1.1266 - accuracy: 0.4522 - val_loss: 1.1606 - val_accuracy: 0.4038 - 926ms/epoch - 24ms/step\n",
      "Epoch 4/20\n",
      "39/39 - 1s - loss: 0.9664 - accuracy: 0.5542 - val_loss: 0.9326 - val_accuracy: 0.5705 - 902ms/epoch - 23ms/step\n",
      "Epoch 5/20\n",
      "39/39 - 1s - loss: 0.7505 - accuracy: 0.6859 - val_loss: 0.9467 - val_accuracy: 0.5929 - 917ms/epoch - 24ms/step\n",
      "Epoch 6/20\n",
      "39/39 - 1s - loss: 0.5841 - accuracy: 0.7406 - val_loss: 0.7887 - val_accuracy: 0.6955 - 930ms/epoch - 24ms/step\n",
      "Epoch 7/20\n",
      "39/39 - 1s - loss: 0.3970 - accuracy: 0.8329 - val_loss: 0.7926 - val_accuracy: 0.7115 - 918ms/epoch - 24ms/step\n",
      "Epoch 8/20\n",
      "39/39 - 1s - loss: 0.3034 - accuracy: 0.9092 - val_loss: 0.7491 - val_accuracy: 0.7756 - 930ms/epoch - 24ms/step\n",
      "Epoch 9/20\n",
      "39/39 - 1s - loss: 0.2413 - accuracy: 0.9309 - val_loss: 0.8075 - val_accuracy: 0.7724 - 915ms/epoch - 23ms/step\n",
      "Epoch 10/20\n",
      "39/39 - 1s - loss: 0.1598 - accuracy: 0.9574 - val_loss: 0.7126 - val_accuracy: 0.7981 - 924ms/epoch - 24ms/step\n",
      "Epoch 11/20\n",
      "39/39 - 1s - loss: 0.1770 - accuracy: 0.9478 - val_loss: 0.8003 - val_accuracy: 0.7917 - 920ms/epoch - 24ms/step\n",
      "Epoch 12/20\n",
      "39/39 - 1s - loss: 0.7509 - accuracy: 0.8209 - val_loss: 1.4312 - val_accuracy: 0.4455 - 905ms/epoch - 23ms/step\n",
      "Epoch 13/20\n",
      "39/39 - 1s - loss: 0.7306 - accuracy: 0.6699 - val_loss: 0.8304 - val_accuracy: 0.7372 - 920ms/epoch - 24ms/step\n",
      "Epoch 14/20\n",
      "39/39 - 1s - loss: 0.4466 - accuracy: 0.8233 - val_loss: 0.8465 - val_accuracy: 0.7436 - 902ms/epoch - 23ms/step\n",
      "Epoch 15/20\n",
      "39/39 - 1s - loss: 0.3267 - accuracy: 0.8811 - val_loss: 0.7235 - val_accuracy: 0.7756 - 935ms/epoch - 24ms/step\n",
      "Epoch 16/20\n",
      "39/39 - 1s - loss: 0.2596 - accuracy: 0.9261 - val_loss: 0.8210 - val_accuracy: 0.7756 - 939ms/epoch - 24ms/step\n",
      "Epoch 17/20\n",
      "39/39 - 1s - loss: 0.1836 - accuracy: 0.9518 - val_loss: 1.0276 - val_accuracy: 0.7051 - 903ms/epoch - 23ms/step\n",
      "Epoch 18/20\n",
      "39/39 - 1s - loss: 0.1594 - accuracy: 0.9438 - val_loss: 0.7416 - val_accuracy: 0.8301 - 929ms/epoch - 24ms/step\n",
      "Epoch 19/20\n",
      "39/39 - 1s - loss: 0.1159 - accuracy: 0.9719 - val_loss: 0.7355 - val_accuracy: 0.8301 - 915ms/epoch - 23ms/step\n",
      "Epoch 20/20\n",
      "39/39 - 1s - loss: 0.2316 - accuracy: 0.9357 - val_loss: 0.9455 - val_accuracy: 0.7949 - 921ms/epoch - 24ms/step\n"
     ]
    }
   ],
   "source": [
    "history2 = model2.fit(x_train,y_train, epochs=20,validation_split=0.2, verbose=2) "
   ]
  },
  {
   "cell_type": "code",
   "execution_count": 29,
   "id": "95007638",
   "metadata": {},
   "outputs": [
    {
     "data": {
      "image/png": "[encoded data removed]",
      "text/plain": [
       "<Figure size 432x288 with 1 Axes>"
      ]
     },
     "metadata": {
      "needs_background": "light"
     },
     "output_type": "display_data"
    }
   ],
   "source": [
    "plt.plot(history2.history['accuracy']) \n",
    "plt.plot(history2.history['val_accuracy']) \n",
    "plt.title('model accuarcy') \n",
    "plt.xlabel('accuracy') \n",
    "plt.ylabel('epoch') \n",
    "plt.legend(['train', 'validation'])\n",
    "plt.show() "
   ]
  },
  {
   "cell_type": "code",
   "execution_count": 30,
   "id": "676db1f4",
   "metadata": {},
   "outputs": [
    {
     "data": {
      "image/png": "[encoded data removed]",
      "text/plain": [
       "<Figure size 432x288 with 1 Axes>"
      ]
     },
     "metadata": {
      "needs_background": "light"
     },
     "output_type": "display_data"
    }
   ],
   "source": [
    "plt.plot(history2.history['loss']) \n",
    "plt.plot(history2.history['val_loss']) \n",
    "plt.title('model loss')\n",
    "plt.xlabel('loss') \n",
    "plt.ylabel('epoch') \n",
    "plt.legend(['train', 'validation']) \n",
    "plt.show() \n"
   ]
  },
  {
   "cell_type": "code",
   "execution_count": 31,
   "id": "b1f45c3d",
   "metadata": {},
   "outputs": [
    {
     "name": "stdout",
     "output_type": "stream",
     "text": [
      "loss:  0.8841361999511719\n",
      "accuracy:  0.7829341292381287\n"
     ]
    }
   ],
   "source": [
    "score = model2.evaluate(x_test,y_test,verbose=0) \n",
    "print(\"loss: \", score[0]) \n",
    "print(\"accuracy: \", score[1])"
   ]
  },
  {
   "cell_type": "code",
   "execution_count": null,
   "id": "f058cb9d",
   "metadata": {},
   "outputs": [],
   "source": []
  }
 ],
 "metadata": {
  "kernelspec": {
   "display_name": "Python 3 (ipykernel)",
   "language": "python",
   "name": "python3"
  },
  "language_info": {
   "codemirror_mode": {
    "name": "ipython",
    "version": 3
   },
   "file_extension": ".py",
   "mimetype": "text/x-python",
   "name": "python",
   "nbconvert_exporter": "python",
   "pygments_lexer": "ipython3",
   "version": "3.9.12"
  }
 },
 "nbformat": 4,
 "nbformat_minor": 5
}
